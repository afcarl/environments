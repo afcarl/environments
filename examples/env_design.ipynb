{
 "metadata": {
  "name": "",
  "signature": "sha256:d6cc3c36d65faf2721af54d5401cffc16c27fe8fc8f44fc39851e6742b173ff4"
 },
 "nbformat": 3,
 "nbformat_minor": 0,
 "worksheets": [
  {
   "cells": [
    {
     "cell_type": "heading",
     "level": 1,
     "metadata": {},
     "source": [
      "`environments` - first steps"
     ]
    },
    {
     "cell_type": "markdown",
     "metadata": {},
     "source": [
      "The `environments` module expose two classes: `Channel` and `Environment`."
     ]
    },
    {
     "cell_type": "code",
     "collapsed": false,
     "input": [
      "from environments import Channel, Environment"
     ],
     "language": "python",
     "metadata": {},
     "outputs": [],
     "prompt_number": 1
    },
    {
     "cell_type": "markdown",
     "metadata": {},
     "source": [
      "A `Channel` describes a scalar communication channel. It has a name, and, optionnally, bounds, that describe - but don't enforce - maximum and minimum on the value the scalar described can take. "
     ]
    },
    {
     "cell_type": "code",
     "collapsed": false,
     "input": [
      "ch_x = Channel('x', bounds=(0, 10))\n",
      "ch_y = Channel('y', bounds=(5, 15))\n",
      "ch_a = Channel('a', bounds=(5, 25))"
     ],
     "language": "python",
     "metadata": {},
     "outputs": [],
     "prompt_number": 2
    },
    {
     "cell_type": "markdown",
     "metadata": {},
     "source": [
      "Lists of channels describe signals. For instance, if we consider `ch_x` and `ch_y` to be motor channels, and `ch_a` a sensory channels, we can create motor and sensory signals:"
     ]
    },
    {
     "cell_type": "code",
     "collapsed": false,
     "input": [
      "m_channels = [ch_x, ch_y]\n",
      "s_channels = [ch_a]\n",
      "\n",
      "# a motor signal\n",
      "{'x': 4, 'y': 11}\n",
      "# a sensory signal\n",
      "{'a': 15}"
     ],
     "language": "python",
     "metadata": {},
     "outputs": [
      {
       "metadata": {},
       "output_type": "pyout",
       "prompt_number": 3,
       "text": [
        "{'a': 15}"
       ]
      }
     ],
     "prompt_number": 3
    },
    {
     "cell_type": "markdown",
     "metadata": {},
     "source": [
      "An `Environment` instance possesses two attributes, `m_channels` and `s_channels` describing its motor and sensory channels respectively, and a method `execute`, that receives a motor signal and returns environmental feedback. The environmental feedback contains the executed motor_signal, the resulting sensory signal, and an uuid - an unique identifier."
     ]
    },
    {
     "cell_type": "code",
     "collapsed": false,
     "input": [
      "# an environmental feedback, also called 'observation'.\n",
      "{'m_signal': {'x': 4, 'y': 11},\n",
      " 's_signal': {'a': 15},\n",
      " 'uuid'    : 0}"
     ],
     "language": "python",
     "metadata": {},
     "outputs": [
      {
       "metadata": {},
       "output_type": "pyout",
       "prompt_number": 4,
       "text": [
        "{'m_signal': {'x': 4, 'y': 11}, 's_signal': {'a': 15}, 'uuid': 0}"
       ]
      }
     ],
     "prompt_number": 4
    },
    {
     "cell_type": "markdown",
     "metadata": {},
     "source": [
      "To inherit from `Environment`, one only needs to overrides the method `_execute`, that is expected to receive a motor signal and return a sensory signal. This method is called by `Environment.execute`, that assign an uuid automatically to the feedback using the standart library `uuid` module. Let's create a simple environment."
     ]
    },
    {
     "cell_type": "code",
     "collapsed": false,
     "input": [
      "class Sum(Environment):\n",
      "    \"\"\"Compute the sum of its motor signal\"\"\"\n",
      "    \n",
      "    def __init__(self, cfg):\n",
      "        \"\"\"Declare `m_channels` and `s_channels`\"\"\"\n",
      "        self.m_channels = [ch_x, ch_y]\n",
      "        self.s_channels = [ch_a]\n",
      "        \n",
      "    def _execute(self, m_signal, meta=None):\n",
      "        \"\"\"Return a sensory signal\"\"\"\n",
      "        return {'a': m_signal['x'] + m_signal['y']}"
     ],
     "language": "python",
     "metadata": {},
     "outputs": [],
     "prompt_number": 5
    },
    {
     "cell_type": "markdown",
     "metadata": {},
     "source": [
      "We can now execute motor commands on the environment."
     ]
    },
    {
     "cell_type": "code",
     "collapsed": false,
     "input": [
      "sum_env = Sum()\n",
      "\n",
      "sum_env.execute({'x': 2, 'y': 11})"
     ],
     "language": "python",
     "metadata": {},
     "outputs": [
      {
       "metadata": {},
       "output_type": "pyout",
       "prompt_number": 6,
       "text": [
        "{'m_signal': {'x': 2, 'y': 11},\n",
        " 's_signal': {'a': 13},\n",
        " 'uuid': UUID('d6d7ea84-3db1-4b91-839d-59c2f3380a5e')}"
       ]
      }
     ],
     "prompt_number": 6
    },
    {
     "cell_type": "markdown",
     "metadata": {},
     "source": [
      "### TODO\n",
      "* `meta` in `execute`\n",
      "* `cfg`\n",
      "* Environment class\n",
      "* `close` and `try: ... finally:`\n",
      "* environments without `s_channels`"
     ]
    },
    {
     "cell_type": "code",
     "collapsed": false,
     "input": [],
     "language": "python",
     "metadata": {},
     "outputs": []
    }
   ],
   "metadata": {}
  }
 ]
}