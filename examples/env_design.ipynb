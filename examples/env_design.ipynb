{
 "metadata": {
  "name": "",
  "signature": "sha256:9b09e1e5c22b0ae425b6f157fa786fda1c7419bcfb08aba1d084ebf4727f95d8"
 },
 "nbformat": 3,
 "nbformat_minor": 0,
 "worksheets": [
  {
   "cells": [
    {
     "cell_type": "heading",
     "level": 1,
     "metadata": {},
     "source": [
      "`environments` - first steps"
     ]
    },
    {
     "cell_type": "markdown",
     "metadata": {},
     "source": [
      "The `environments` module expose two classes: `Channel` and `Environment`."
     ]
    },
    {
     "cell_type": "heading",
     "level": 3,
     "metadata": {},
     "source": [
      "Channels"
     ]
    },
    {
     "cell_type": "code",
     "collapsed": false,
     "input": [
      "from environments import Channel, Environment"
     ],
     "language": "python",
     "metadata": {},
     "outputs": [],
     "prompt_number": 1
    },
    {
     "cell_type": "markdown",
     "metadata": {},
     "source": [
      "A `Channel` describes a scalar communication channel. It has a name, and, optionnally, bounds, that describe - but don't enforce - maximum and minimum on the value the scalar described can take. "
     ]
    },
    {
     "cell_type": "code",
     "collapsed": false,
     "input": [
      "ch_x = Channel('x', bounds=(0, 10))\n",
      "ch_y = Channel('y', bounds=(5, 15))\n",
      "ch_a = Channel('a', bounds=(5, 25))"
     ],
     "language": "python",
     "metadata": {},
     "outputs": [],
     "prompt_number": 2
    },
    {
     "cell_type": "markdown",
     "metadata": {},
     "source": [
      "Lists of channels describe signals. For instance, if we consider `ch_x` and `ch_y` to be motor channels, and `ch_a` a sensory channels, we can create motor and sensory signals:"
     ]
    },
    {
     "cell_type": "code",
     "collapsed": false,
     "input": [
      "m_channels = [ch_x, ch_y]\n",
      "s_channels = [ch_a]\n",
      "\n",
      "# a motor signal\n",
      "{'x': 4, 'y': 11}\n",
      "# a sensory signal\n",
      "{'a': 15}"
     ],
     "language": "python",
     "metadata": {},
     "outputs": [
      {
       "metadata": {},
       "output_type": "pyout",
       "prompt_number": 3,
       "text": [
        "{'a': 15}"
       ]
      }
     ],
     "prompt_number": 3
    },
    {
     "cell_type": "heading",
     "level": 3,
     "metadata": {},
     "source": [
      "Environments"
     ]
    },
    {
     "cell_type": "markdown",
     "metadata": {},
     "source": [
      "An `Environment` instance possesses two attributes, `m_channels` and `s_channels` describing its motor and sensory channels respectively, and a method `execute`, that receives a motor signal and returns environmental feedback. The environmental feedback contains the executed motor_signal, the resulting sensory signal, and an uuid - an unique identifier."
     ]
    },
    {
     "cell_type": "code",
     "collapsed": false,
     "input": [
      "# an environmental feedback, also called 'observation'.\n",
      "{'m_signal': {'x': 4, 'y': 11},\n",
      " 's_signal': {'a': 15},\n",
      " 'uuid'    : 0}"
     ],
     "language": "python",
     "metadata": {},
     "outputs": [
      {
       "metadata": {},
       "output_type": "pyout",
       "prompt_number": 4,
       "text": [
        "{'m_signal': {'x': 4, 'y': 11}, 's_signal': {'a': 15}, 'uuid': 0}"
       ]
      }
     ],
     "prompt_number": 4
    },
    {
     "cell_type": "markdown",
     "metadata": {},
     "source": [
      "To inherit from `Environment`, one only needs to overrides the method `_execute`, that is expected to receive a motor signal and return a sensory signal. This method is called by `Environment.execute`, that assign an uuid automatically to the feedback using the standart library `uuid` module. Let's create a simple environment."
     ]
    },
    {
     "cell_type": "code",
     "collapsed": false,
     "input": [
      "class Sum(Environment):\n",
      "    \"\"\"Compute the sum of its motor signal\"\"\"\n",
      "    \n",
      "    def __init__(self, cfg):\n",
      "        \"\"\"Declare `m_channels` and `s_channels`\"\"\"\n",
      "        super(Sum, self).__init__(cfg)\n",
      "        self.m_channels = [ch_x, ch_y]\n",
      "        self.s_channels = [ch_a]\n",
      "        \n",
      "    def _execute(self, m_signal, meta=None):\n",
      "        \"\"\"Return a sensory signal\"\"\"\n",
      "        return {'a': m_signal['x'] + m_signal['y']}"
     ],
     "language": "python",
     "metadata": {},
     "outputs": [],
     "prompt_number": 5
    },
    {
     "cell_type": "markdown",
     "metadata": {},
     "source": [
      "We can now execute motor commands on the environment."
     ]
    },
    {
     "cell_type": "code",
     "collapsed": false,
     "input": [
      "sum_env = Sum({})\n",
      "\n",
      "sum_env.execute({'x': 2, 'y': 11})"
     ],
     "language": "python",
     "metadata": {},
     "outputs": [
      {
       "metadata": {},
       "output_type": "pyout",
       "prompt_number": 6,
       "text": [
        "{'s_signal': {'a': 13}, 'uuid': UUID('518c5c08-161f-4420-9770-05600c7daf24')}"
       ]
      }
     ],
     "prompt_number": 6
    },
    {
     "cell_type": "heading",
     "level": 3,
     "metadata": {},
     "source": [
      "Details"
     ]
    },
    {
     "cell_type": "markdown",
     "metadata": {},
     "source": [
      "#### `__init__()`'s `cfg` parameter\n",
      "The ``__init__()`` method of an environment expects a `cfg` argument, which provides configuration parameters to the environment. If you call `Environment.__init__()`, it expects `cfg` to be a dictionnary or a `scicfg.SciConfig` instance. In the former case, it will be converted to a `scicfg.SciConfig` instance and set as the `self.cfg`."
     ]
    },
    {
     "cell_type": "markdown",
     "metadata": {},
     "source": [
      "#### `_execute`'s `meta` parameter\n",
      "The `_execute` command accepts an additional argument, `meta`. If not `None`, it is assumed to be dictionnary, that can be both use for providing additional information on how to execute the command, or by the execution add logs and metadata about how the motor command was executed."
     ]
    },
    {
     "cell_type": "markdown",
     "metadata": {},
     "source": [
      "#### `close()` method\n",
      "Any cleanup needed stopping the environement should be done in the `close()` method. The best way to create an environment and execute orders is to use a `try: ... finally:` construction, so that any error or exception still cleans-up open ports, connections, stops motors, etc.:"
     ]
    },
    {
     "cell_type": "code",
     "collapsed": false,
     "input": [
      "try:\n",
      "    sum_env = Sum({})\n",
      "    sum_env.execute({'x': 2, 'y': 11})\n",
      "finally:\n",
      "    sum_env.close()"
     ],
     "language": "python",
     "metadata": {},
     "outputs": [],
     "prompt_number": 7
    }
   ],
   "metadata": {}
  }
 ]
}